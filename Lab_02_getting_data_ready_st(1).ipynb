{
 "cells": [
  {
   "cell_type": "markdown",
   "metadata": {},
   "source": [
    "<h1>Data Cleaning / Munging</h1>\n",
    "\n",
    "<p>In these notes we look at creating various plots based on a set of data.  We have a datafile called degreeClassification.csv (available on blackboard) which consists of the following columns:</p>\n",
    "<ul>\n",
    "<li>Academic Year:  The year that the degree was awarded.</li>\n",
    "<li>Mode of study: Full-time, part-time or both.</li>\n",
    "<li>Sex: Male, Female, Other or all.</li>\n",
    "<li>Country of HE provider: England, Northern Ireland, Scotland, Wales or all.</li>\n",
    "<li>Classification of First Degree: First, Upper Second, Lower Second or Third/Pass.</li>\n",
    "<li>Number: The number of students achieving that degree.</li>\n",
    "<li>Percentage:  The percentage of students achieving that degree.</li>\n",
    "</ul>   \n",
    "\n",
    "<p>We start the exercises by getting the data ready to be plotted</p>"
   ]
  },
  {
   "cell_type": "markdown",
   "metadata": {},
   "source": [
    "<h2>Import PANDAs</h2>"
   ]
  },
  {
   "cell_type": "code",
   "execution_count": 2,
   "metadata": {},
   "outputs": [],
   "source": [
    "import pandas;"
   ]
  },
  {
   "cell_type": "markdown",
   "metadata": {},
   "source": [
    "<h2>Read the data into a PANDAs DataFrame</h2>\n",
    "<p>Read the 'degreeClassification.csv' in to a data frame called df, use the head method to output the first 20 rows of the datafile so that the structure of the dataframe can be explored.</p>"
   ]
  },
  {
   "cell_type": "code",
   "execution_count": null,
   "metadata": {},
   "outputs": [],
   "source": []
  },
  {
   "cell_type": "markdown",
   "metadata": {},
   "source": [
    "<h2>Skipping Summary Rows</h2>\n",
    "<p>Read the datafile and skip the rows that contain summary information.  Use the head method and output the first 20 rows.  The column names should be:\n",
    "<ul>    \n",
    "<li>Academic Year</li>\n",
    "<li>Mode of study</li>\n",
    "<li>Sex</li>\n",
    "<li>Country of HE provider</li>\n",
    "<li>Classification of First Degree</li>\n",
    "<li>Number</li>\n",
    "<li>Percentage</li>\n",
    "</ul>    \n",
    "</p>"
   ]
  },
  {
   "cell_type": "code",
   "execution_count": null,
   "metadata": {},
   "outputs": [],
   "source": []
  },
  {
   "cell_type": "markdown",
   "metadata": {},
   "source": [
    "<h2>Unique values in a Column</h2>\n",
    "<p>Output the unique values for the column 'Mode of study' to give a general idea of the categorical data for this column</p>"
   ]
  },
  {
   "cell_type": "code",
   "execution_count": null,
   "metadata": {},
   "outputs": [],
   "source": []
  },
  {
   "cell_type": "markdown",
   "metadata": {},
   "source": [
    "<h2>Boolean Masks</h2>\n",
    "\n",
    "<p>Create a boolean mask and then filter the data based on the categorical data value 'All' for 'Mode of Study'.  We do this in stages to help understand how the more complex aggregated instruction is built.</p>\n",
    "<p>The overall goal is to apply a mask so that all the rows that contain values part-time or full-time are dropped from the dataframe.  We do this so that we don’t double count, i.e. A count in 'All' will also also be a count in either 'Part-time' or 'Full-time'.</p>\n",
    "\n",
    "<ol>\n",
    "<li>Create a mask to output True/False for each row, True if 'Mode of study' is equal to 'All' and False otherwise</li>"
   ]
  },
  {
   "cell_type": "code",
   "execution_count": null,
   "metadata": {},
   "outputs": [],
   "source": []
  },
  {
   "cell_type": "markdown",
   "metadata": {},
   "source": [
    "<ol start='2'>\n",
    "<li>Assign the Boolean mask to a variable named mask</li>"
   ]
  },
  {
   "cell_type": "code",
   "execution_count": null,
   "metadata": {},
   "outputs": [],
   "source": []
  },
  {
   "cell_type": "markdown",
   "metadata": {},
   "source": [
    "<ol start='3'>\n",
    "<li>Use the variable named mask to update the dataframe named df so that the dataframe is filtered based on the boolean mask</li>\n",
    "<li>Output the unique values for the column 'Mode of study' to ensure that 'Full-time' and 'Part-time' have been filtered out (don't exist in the dataframe)</li>"
   ]
  },
  {
   "cell_type": "code",
   "execution_count": null,
   "metadata": {},
   "outputs": [],
   "source": []
  },
  {
   "cell_type": "markdown",
   "metadata": {},
   "source": [
    "<ol start='5'>\n",
    "<li>Output the dataframe</li>"
   ]
  },
  {
   "cell_type": "code",
   "execution_count": null,
   "metadata": {},
   "outputs": [],
   "source": []
  },
  {
   "cell_type": "markdown",
   "metadata": {},
   "source": [
    "<h2>Boolean Masks Continued</h2>\n",
    "\n",
    "<p>Create a boolean mask and then filter the data based on the categorical data 'All' for 'Sex'</p>\n",
    "<p>Then create a boolean mask and then filter the data based on the categorical data 'All' for 'Country of HE provider'</p>\n",
    "<p>Output the dataframe to check the filtering was successful, you should have reduced the data from 1380 rows to 25 rows.</p>"
   ]
  },
  {
   "cell_type": "code",
   "execution_count": null,
   "metadata": {},
   "outputs": [],
   "source": []
  },
  {
   "cell_type": "markdown",
   "metadata": {},
   "source": [
    "<h2>More Boolean Masks</h2>\n",
    "\n",
    "<p>We are not interested in rows that show the totals of classification for each year, filter these out.</p>\n",
    "<p>Output the dataframe to check the filtering was successful, you should have reduced the data from 25 rows to 20 rows.</p>"
   ]
  },
  {
   "cell_type": "code",
   "execution_count": null,
   "metadata": {},
   "outputs": [],
   "source": []
  },
  {
   "cell_type": "markdown",
   "metadata": {},
   "source": [
    "<h2>Dropping Columns</h2>\n",
    "<p>Since columns 'Mode of study', 'Sex', and 'Country of HE provider' don\\t provide us with any meaninful information (the all contain the data 'All'), drop these columns from the dataframe.</p>\n",
    "<p>Output the dataframe to check the columns have been dropped successfully.</p>"
   ]
  },
  {
   "cell_type": "code",
   "execution_count": null,
   "metadata": {},
   "outputs": [],
   "source": []
  },
  {
   "cell_type": "markdown",
   "metadata": {},
   "source": [
    "<h2>Checking the Data Type of a Column</h2>\n",
    "<p>Check the type of data that is stored for one of the values in the percentage column.</p>"
   ]
  },
  {
   "cell_type": "code",
   "execution_count": null,
   "metadata": {},
   "outputs": [],
   "source": []
  },
  {
   "cell_type": "markdown",
   "metadata": {},
   "source": [
    "<h2>Cleaning and converting to an string data type to a number data type</h2>\n",
    "<p>The percentage column is a string data type because of the % character.  Remove the % character and convert the values for this column to a numeric data type</p>"
   ]
  },
  {
   "cell_type": "code",
   "execution_count": null,
   "metadata": {},
   "outputs": [],
   "source": []
  },
  {
   "cell_type": "markdown",
   "metadata": {},
   "source": [
    "<h2>New Dataframes</h2>\n",
    "<p>Often it is useful to create seperate smaller dataframes, create four new dataframes named df_first, df_upp_sec, df_low_sec and df_third, to seperate the different degree classifications.</p>\n",
    "\n",
    "Example:\n",
    "df_first would output:\n",
    "<pre>\n",
    "      Academic Year   Classification of First Degree\tNumber\t Percentage\n",
    "0\t    2013/14\t       First\t                    79410\t  20%\n",
    "275\t  2014/15\t       First\t                    81640\t  22%\n",
    "550\t  2015/16\t       First\t                    88890\t  24%\n",
    "825\t  2016/17\t       First\t                    100945\t 26%\n",
    "1105\t 2017/18\t       First\t                    110475\t 28%\n",
    "</pre>"
   ]
  },
  {
   "cell_type": "code",
   "execution_count": null,
   "metadata": {},
   "outputs": [],
   "source": []
  },
  {
   "cell_type": "markdown",
   "metadata": {},
   "source": [
    "<h2>Save the Dataframes to CSV files</h2>\n",
    "<p>Save the dataframes df, df_first, df_upp_sec, df_low_sec and df_third to csv files with filesnames that match the dataframe name."
   ]
  },
  {
   "cell_type": "code",
   "execution_count": null,
   "metadata": {},
   "outputs": [],
   "source": []
  }
 ],
 "metadata": {
  "kernelspec": {
   "display_name": "Python 3",
   "language": "python",
   "name": "python3"
  },
  "language_info": {
   "codemirror_mode": {
    "name": "ipython",
    "version": 3
   },
   "file_extension": ".py",
   "mimetype": "text/x-python",
   "name": "python",
   "nbconvert_exporter": "python",
   "pygments_lexer": "ipython3",
   "version": "3.10.4"
  },
  "vscode": {
   "interpreter": {
    "hash": "bed70b42f47517a802791a5f107cb055e2db449dca1c47fd32f585faf2daf331"
   }
  }
 },
 "nbformat": 4,
 "nbformat_minor": 2
}
